{
 "cells":[
  {
   "cell_type":"markdown",
   "source":[
    "## **Back** to the Future: Evolution of Music Moods from 1992 to Present - Data Collection\n",
    "\n",
    "The purpose of this notebook is data collection. For this project we will aggregate data from annual Billboard Top 100 lists via Wikipedia, and various track related data points from the Spotify API. The output of this notebook with be a .csv file from each data source that we can use in additional notebooks for further data cleaning, analysis, and visualization.\n",
    "\n",
    "Steps in this notebook:\n",
    "<br>\n",
    "- [Initial Imports & Installation](#first-bullet)\n",
    "<br>\n",
    "- [Billboard Data Collection - Top 100 Charts since 1992](#second-bullet)\n",
    "<br>\n",
    "- [Spotify Data Collection - Track attributes and mood data](#third-bullet)"
   ],
   "attachments":{
    
   },
   "metadata":{
    "datalore":{
     "node_id":"boNnDtyarACTybk2EjEza1",
     "type":"MD",
     "hide_input_from_viewers":false,
     "hide_output_from_viewers":false,
     "report_properties":{
      "y":0
     }
    }
   }
  },
  {
   "cell_type":"markdown",
   "source":[
    "### **Initial Imports & Installation**<a class=\"anchor\" id=\"first-bullet\"><\/a>"
   ],
   "attachments":{
    
   },
   "metadata":{
    "datalore":{
     "node_id":"cR1qiYRHJlzeBtTAsmIRLx",
     "type":"MD",
     "hide_input_from_viewers":false,
     "hide_output_from_viewers":false,
     "report_properties":{
      "y":8
     }
    }
   }
  },
  {
   "cell_type":"code",
   "source":[
    "import warnings\n",
    "import pandas as pd \n",
    "import numpy as np\n",
    "warnings.filterwarnings(\"ignore\", category=DeprecationWarning) "
   ],
   "execution_count":null,
   "outputs":[
    
   ],
   "metadata":{
    "datalore":{
     "node_id":"hs3A81ZD6XicfgBCQe4r85",
     "type":"CODE",
     "hide_input_from_viewers":false,
     "hide_output_from_viewers":false,
     "report_properties":{
      "y":11
     }
    }
   }
  },
  {
   "cell_type":"code",
   "source":[
    "#Install Wikipedia API\n",
    "!pip install wikipedia\n",
    "\n",
    "#Install Spotify API\n",
    "!pip install spotipy\n",
    "\n",
    "# Install BeautifulSoup: a library to parse HTML documents\n",
    "!pip install beautifulsoup4\n",
    "\n",
    "# install Requests: a library to handle api requests\n",
    "!pip install requests"
   ],
   "execution_count":null,
   "outputs":[
    {
     "name":"stdout",
     "text":[
      "Requirement already satisfied: wikipedia in \/opt\/python\/envs\/default\/lib\/python3.8\/site-packages (1.4.0)\r\n",
      "Requirement already satisfied: requests<3.0.0,>=2.0.0 in \/opt\/python\/envs\/default\/lib\/python3.8\/site-packages (from wikipedia) (2.26.0)\r\n",
      "Requirement already satisfied: beautifulsoup4 in \/opt\/python\/envs\/default\/lib\/python3.8\/site-packages (from wikipedia) (4.11.2)\r\n",
      "Requirement already satisfied: urllib3<1.27,>=1.21.1 in \/opt\/python\/envs\/default\/lib\/python3.8\/site-packages (from requests<3.0.0,>=2.0.0->wikipedia) (1.26.14)\r\n",
      "Requirement already satisfied: idna<4,>=2.5 in \/opt\/python\/envs\/default\/lib\/python3.8\/site-packages (from requests<3.0.0,>=2.0.0->wikipedia) (3.4)\r\n",
      "Requirement already satisfied: charset-normalizer~=2.0.0 in \/opt\/python\/envs\/default\/lib\/python3.8\/site-packages (from requests<3.0.0,>=2.0.0->wikipedia) (2.0.12)\r\n",
      "Requirement already satisfied: certifi>=2017.4.17 in \/opt\/python\/envs\/default\/lib\/python3.8\/site-packages (from requests<3.0.0,>=2.0.0->wikipedia) (2022.12.7)\r\n",
      "Requirement already satisfied: soupsieve>1.2 in \/opt\/python\/envs\/default\/lib\/python3.8\/site-packages (from beautifulsoup4->wikipedia) (2.3.2.post1)\r\n",
      "\u001b[33mWARNING: You are using pip version 21.3.1; however, version 23.0.1 is available.\r\n",
      "You should consider upgrading via the '\/opt\/python\/envs\/default\/bin\/python -m pip install --upgrade pip' command.\u001b[0m\r\n",
      "Requirement already satisfied: spotipy in \/opt\/python\/envs\/default\/lib\/python3.8\/site-packages (2.22.1)\r\n",
      "Requirement already satisfied: requests>=2.25.0 in \/opt\/python\/envs\/default\/lib\/python3.8\/site-packages (from spotipy) (2.26.0)\r\n",
      "Requirement already satisfied: six>=1.15.0 in \/opt\/python\/envs\/default\/lib\/python3.8\/site-packages (from spotipy) (1.16.0)\r\n",
      "Requirement already satisfied: urllib3>=1.26.0 in \/opt\/python\/envs\/default\/lib\/python3.8\/site-packages (from spotipy) (1.26.14)\r\n",
      "Requirement already satisfied: redis>=3.5.3 in \/opt\/python\/envs\/default\/lib\/python3.8\/site-packages (from spotipy) (4.5.1)\r\n",
      "Requirement already satisfied: async-timeout>=4.0.2 in \/opt\/python\/envs\/default\/lib\/python3.8\/site-packages (from redis>=3.5.3->spotipy) (4.0.2)\r\n",
      "Requirement already satisfied: idna<4,>=2.5 in \/opt\/python\/envs\/default\/lib\/python3.8\/site-packages (from requests>=2.25.0->spotipy) (3.4)\r\n",
      "Requirement already satisfied: charset-normalizer~=2.0.0 in \/opt\/python\/envs\/default\/lib\/python3.8\/site-packages (from requests>=2.25.0->spotipy) (2.0.12)\r\n",
      "Requirement already satisfied: certifi>=2017.4.17 in \/opt\/python\/envs\/default\/lib\/python3.8\/site-packages (from requests>=2.25.0->spotipy) (2022.12.7)\r\n",
      "\u001b[33mWARNING: You are using pip version 21.3.1; however, version 23.0.1 is available.\r\n",
      "You should consider upgrading via the '\/opt\/python\/envs\/default\/bin\/python -m pip install --upgrade pip' command.\u001b[0m\r\n",
      "Requirement already satisfied: beautifulsoup4 in \/opt\/python\/envs\/default\/lib\/python3.8\/site-packages (4.11.2)\r\n",
      "Requirement already satisfied: soupsieve>1.2 in \/opt\/python\/envs\/default\/lib\/python3.8\/site-packages (from beautifulsoup4) (2.3.2.post1)\r\n",
      "\u001b[33mWARNING: You are using pip version 21.3.1; however, version 23.0.1 is available.\r\n",
      "You should consider upgrading via the '\/opt\/python\/envs\/default\/bin\/python -m pip install --upgrade pip' command.\u001b[0m\r\n",
      "Requirement already satisfied: requests in \/opt\/python\/envs\/default\/lib\/python3.8\/site-packages (2.26.0)\r\n",
      "Requirement already satisfied: urllib3<1.27,>=1.21.1 in \/opt\/python\/envs\/default\/lib\/python3.8\/site-packages (from requests) (1.26.14)\r\n",
      "Requirement already satisfied: idna<4,>=2.5 in \/opt\/python\/envs\/default\/lib\/python3.8\/site-packages (from requests) (3.4)\r\n",
      "Requirement already satisfied: certifi>=2017.4.17 in \/opt\/python\/envs\/default\/lib\/python3.8\/site-packages (from requests) (2022.12.7)\r\n",
      "Requirement already satisfied: charset-normalizer~=2.0.0 in \/opt\/python\/envs\/default\/lib\/python3.8\/site-packages (from requests) (2.0.12)\r\n",
      "\u001b[33mWARNING: You are using pip version 21.3.1; however, version 23.0.1 is available.\r\n",
      "You should consider upgrading via the '\/opt\/python\/envs\/default\/bin\/python -m pip install --upgrade pip' command.\u001b[0m\r\n"
     ],
     "output_type":"stream"
    }
   ],
   "metadata":{
    "datalore":{
     "node_id":"OGdZHkKutgxjmWbkGtbhu2",
     "type":"CODE",
     "hide_input_from_viewers":false,
     "hide_output_from_viewers":true,
     "report_properties":{
      "y":15
     }
    }
   }
  },
  {
   "cell_type":"code",
   "source":[
    "#imports for Wikipedia \/ Billboard data\n",
    "import requests \n",
    "import wikipedia\n",
    "from bs4 import BeautifulSoup \n",
    "\n",
    "#imports for Spotify API\n",
    "import os\n",
    "import spotipy\n",
    "import spotipy.util as util\n",
    "from spotipy.oauth2 import SpotifyClientCredentials\n",
    "import spotipy.oauth2 as oauth2"
   ],
   "execution_count":null,
   "outputs":[
    
   ],
   "metadata":{
    "datalore":{
     "node_id":"l3ClokWB5fsQRl4tO4fSUX",
     "type":"CODE",
     "hide_input_from_viewers":false,
     "hide_output_from_viewers":false,
     "report_properties":{
      "x":0,
      "y":22
     }
    }
   }
  },
  {
   "cell_type":"markdown",
   "source":[
    "### **Billboard Data Collection - Top 100 Charts since 1992**<a class=\"anchor\" id=\"second-bullet\"><\/a>\n",
    "*Scraping Wikipedia Tables for Billboard Hot 100 Year-End Data*\n",
    "\n",
    "Wikipedia uses a standard format for all Billboard Hot 100 Year End charts. This made it easy for us to streamline collecting the data for each year we wanted to analyze. The result we're looking for is one single datafile of all Top 100 songs for the last 20 years (1992 to 2022)."
   ],
   "attachments":{
    
   },
   "metadata":{
    "datalore":{
     "node_id":"MxYvEMuuyL8gNIkGxV0hCk",
     "type":"MD",
     "hide_input_from_viewers":false,
     "hide_output_from_viewers":false,
     "report_properties":{
      "x":0,
      "y":29
     }
    }
   }
  },
  {
   "cell_type":"code",
   "source":[
    "\n",
    "#function to parse table data from Billboard Year-End Hot 100 wiki page of its corresponding year\n",
    "\n",
    "def get_YearEnd_Hot100(year):\n",
    "    #Finding url of page that contains chart data\n",
    "    wikipage=wikipedia.page('Billboard Year-End Hot 100 singles of {}'.format(year))\n",
    "    wikiurl = wikipage.url\n",
    "    response=requests.get(wikiurl)\n",
    "    \n",
    "    #Parsing html table contents into a list\n",
    "    soup = BeautifulSoup(response.text, 'html.parser')\n",
    "    billboardtable=soup.find('table',{'class':\"wikitable\"})\n",
    "    df=pd.read_html(str(billboardtable))\n",
    "    \n",
    "    # convert list to dataframe\n",
    "    df=pd.DataFrame(df[0])\n",
    "    df[\"Billboard Year\"]=year\n",
    "   \n",
    "    return df"
   ],
   "execution_count":null,
   "outputs":[
    
   ],
   "metadata":{
    "datalore":{
     "node_id":"f2OQIQPn7wBnh1mNmhnzH3",
     "type":"CODE",
     "hide_input_from_viewers":false,
     "hide_output_from_viewers":false,
     "report_properties":{
      "x":0,
      "y":35
     }
    }
   }
  },
  {
   "cell_type":"code",
   "source":[
    "#setup a loop to grab data for each year 1992-2022\n",
    "last_30 = [2022 - i for i in range(31)]\n",
    "songs_dfs = []\n",
    "\n",
    "for year in last_30:\n",
    "    songs_df=get_YearEnd_Hot100(year)\n",
    "    songs_dfs.append(songs_df)\n",
    "\n",
    "billboard_df=pd.concat(songs_dfs)\n",
    "\n",
    "billboard_df.columns"
   ],
   "execution_count":null,
   "outputs":[
    {
     "data":{
      "text\/plain":[
       "Index(['No.', 'Title', 'Artist(s)', 'Billboard Year', '№'], dtype='object')"
      ]
     },
     "metadata":{
      
     },
     "output_type":"display_data"
    }
   ],
   "metadata":{
    "datalore":{
     "node_id":"uRblr3GpU4TLZxzwJiZn63",
     "type":"CODE",
     "hide_input_from_viewers":false,
     "hide_output_from_viewers":false,
     "report_properties":{
      "x":0,
      "y":46
     }
    }
   }
  },
  {
   "cell_type":"code",
   "source":[
    "#Resulting dataframe has two \"No.\" ranking columns\n",
    "#need to replace NaN values with corresponding value in the other column. \n",
    "billboard_df.reset_index()\n",
    "billboard_df[\"No.\"].fillna(billboard_df['№'], inplace=True)\n",
    "del billboard_df['№']\n",
    "\n",
    "billboard_df"
   ],
   "execution_count":null,
   "outputs":[
    {
     "data":{
      "text\/html":[
       "<div>\n",
       "<style scoped>\n",
       "    .dataframe tbody tr th:only-of-type {\n",
       "        vertical-align: middle;\n",
       "    }\n",
       "\n",
       "    .dataframe tbody tr th {\n",
       "        vertical-align: top;\n",
       "    }\n",
       "\n",
       "    .dataframe thead th {\n",
       "        text-align: right;\n",
       "    }\n",
       "<\/style>\n",
       "<table border=\"1\" class=\"dataframe\">\n",
       "  <thead>\n",
       "    <tr style=\"text-align: right;\">\n",
       "      <th><\/th>\n",
       "      <th>No.<\/th>\n",
       "      <th>Title<\/th>\n",
       "      <th>Artist(s)<\/th>\n",
       "      <th>Billboard Year<\/th>\n",
       "    <\/tr>\n",
       "  <\/thead>\n",
       "  <tbody>\n",
       "    <tr>\n",
       "      <th>0<\/th>\n",
       "      <td>1.0<\/td>\n",
       "      <td>\"Heat Waves\"<\/td>\n",
       "      <td>Glass Animals<\/td>\n",
       "      <td>2022<\/td>\n",
       "    <\/tr>\n",
       "    <tr>\n",
       "      <th>1<\/th>\n",
       "      <td>2.0<\/td>\n",
       "      <td>\"As It Was\"<\/td>\n",
       "      <td>Harry Styles<\/td>\n",
       "      <td>2022<\/td>\n",
       "    <\/tr>\n",
       "    <tr>\n",
       "      <th>2<\/th>\n",
       "      <td>3.0<\/td>\n",
       "      <td>\"Stay\"<\/td>\n",
       "      <td>The Kid Laroi and Justin Bieber<\/td>\n",
       "      <td>2022<\/td>\n",
       "    <\/tr>\n",
       "    <tr>\n",
       "      <th>3<\/th>\n",
       "      <td>4.0<\/td>\n",
       "      <td>\"Easy on Me\"<\/td>\n",
       "      <td>Adele<\/td>\n",
       "      <td>2022<\/td>\n",
       "    <\/tr>\n",
       "    <tr>\n",
       "      <th>4<\/th>\n",
       "      <td>5.0<\/td>\n",
       "      <td>\"Shivers\"<\/td>\n",
       "      <td>Ed Sheeran<\/td>\n",
       "      <td>2022<\/td>\n",
       "    <\/tr>\n",
       "    <tr>\n",
       "      <th>...<\/th>\n",
       "      <td>...<\/td>\n",
       "      <td>...<\/td>\n",
       "      <td>...<\/td>\n",
       "      <td>...<\/td>\n",
       "    <\/tr>\n",
       "    <tr>\n",
       "      <th>95<\/th>\n",
       "      <td>96.0<\/td>\n",
       "      <td>\"I Will Remember You\"<\/td>\n",
       "      <td>Amy Grant<\/td>\n",
       "      <td>1992<\/td>\n",
       "    <\/tr>\n",
       "    <tr>\n",
       "      <th>96<\/th>\n",
       "      <td>97.0<\/td>\n",
       "      <td>\"We Got a Love Thang\"<\/td>\n",
       "      <td>CeCe Peniston<\/td>\n",
       "      <td>1992<\/td>\n",
       "    <\/tr>\n",
       "    <tr>\n",
       "      <th>97<\/th>\n",
       "      <td>98.0<\/td>\n",
       "      <td>\"Let's Get Rocked\"<\/td>\n",
       "      <td>Def Leppard<\/td>\n",
       "      <td>1992<\/td>\n",
       "    <\/tr>\n",
       "    <tr>\n",
       "      <th>98<\/th>\n",
       "      <td>99.0<\/td>\n",
       "      <td>\"They Want EFX\"<\/td>\n",
       "      <td>Das EFX<\/td>\n",
       "      <td>1992<\/td>\n",
       "    <\/tr>\n",
       "    <tr>\n",
       "      <th>99<\/th>\n",
       "      <td>100.0<\/td>\n",
       "      <td>\"I Can't Make You Love Me\"<\/td>\n",
       "      <td>Bonnie Raitt<\/td>\n",
       "      <td>1992<\/td>\n",
       "    <\/tr>\n",
       "  <\/tbody>\n",
       "<\/table>\n",
       "<p>3100 rows × 4 columns<\/p>\n",
       "<\/div>"
      ]
     },
     "metadata":{
      
     },
     "output_type":"display_data"
    }
   ],
   "metadata":{
    "datalore":{
     "node_id":"yPv7qxV4I7gXjDXaMJ7dLz",
     "type":"CODE",
     "hide_input_from_viewers":false,
     "hide_output_from_viewers":false,
     "report_properties":{
      "x":0,
      "y":54
     }
    }
   }
  },
  {
   "cell_type":"code",
   "source":[
    "#Splitting Artist(s) column\n",
    "def split_artist(artists):\n",
    "    if \"featuring\" in artists:\n",
    "        return artists.split(\"featuring\",1)\n",
    "    elif \",\" in artists:\n",
    "        return artists.split(\",\",1)\n",
    "    elif \"(\" in artists:\n",
    "        return artists.split(\"(\",1)\n",
    "    elif \"and \" in artists:\n",
    "        return artists.split(\"and \",1)\n",
    "    \n",
    "    else:\n",
    "        return [artists,None]\n",
    "    \n",
    "\n",
    "\n",
    "billboard_df[[\"Artist_1\",\"Artist_2\"]]= [split_artist(x) for x in billboard_df[\"Artist(s)\"]]\n",
    "billboard_df"
   ],
   "execution_count":null,
   "outputs":[
    {
     "data":{
      "text\/html":[
       "<div>\n",
       "<style scoped>\n",
       "    .dataframe tbody tr th:only-of-type {\n",
       "        vertical-align: middle;\n",
       "    }\n",
       "\n",
       "    .dataframe tbody tr th {\n",
       "        vertical-align: top;\n",
       "    }\n",
       "\n",
       "    .dataframe thead th {\n",
       "        text-align: right;\n",
       "    }\n",
       "<\/style>\n",
       "<table border=\"1\" class=\"dataframe\">\n",
       "  <thead>\n",
       "    <tr style=\"text-align: right;\">\n",
       "      <th><\/th>\n",
       "      <th>No.<\/th>\n",
       "      <th>Title<\/th>\n",
       "      <th>Artist(s)<\/th>\n",
       "      <th>Billboard Year<\/th>\n",
       "      <th>Artist_1<\/th>\n",
       "      <th>Artist_2<\/th>\n",
       "    <\/tr>\n",
       "  <\/thead>\n",
       "  <tbody>\n",
       "    <tr>\n",
       "      <th>0<\/th>\n",
       "      <td>1.0<\/td>\n",
       "      <td>\"Heat Waves\"<\/td>\n",
       "      <td>Glass Animals<\/td>\n",
       "      <td>2022<\/td>\n",
       "      <td>Glass Animals<\/td>\n",
       "      <td>None<\/td>\n",
       "    <\/tr>\n",
       "    <tr>\n",
       "      <th>1<\/th>\n",
       "      <td>2.0<\/td>\n",
       "      <td>\"As It Was\"<\/td>\n",
       "      <td>Harry Styles<\/td>\n",
       "      <td>2022<\/td>\n",
       "      <td>Harry Styles<\/td>\n",
       "      <td>None<\/td>\n",
       "    <\/tr>\n",
       "    <tr>\n",
       "      <th>2<\/th>\n",
       "      <td>3.0<\/td>\n",
       "      <td>\"Stay\"<\/td>\n",
       "      <td>The Kid Laroi and Justin Bieber<\/td>\n",
       "      <td>2022<\/td>\n",
       "      <td>The Kid Laroi<\/td>\n",
       "      <td>Justin Bieber<\/td>\n",
       "    <\/tr>\n",
       "    <tr>\n",
       "      <th>3<\/th>\n",
       "      <td>4.0<\/td>\n",
       "      <td>\"Easy on Me\"<\/td>\n",
       "      <td>Adele<\/td>\n",
       "      <td>2022<\/td>\n",
       "      <td>Adele<\/td>\n",
       "      <td>None<\/td>\n",
       "    <\/tr>\n",
       "    <tr>\n",
       "      <th>4<\/th>\n",
       "      <td>5.0<\/td>\n",
       "      <td>\"Shivers\"<\/td>\n",
       "      <td>Ed Sheeran<\/td>\n",
       "      <td>2022<\/td>\n",
       "      <td>Ed Sheeran<\/td>\n",
       "      <td>None<\/td>\n",
       "    <\/tr>\n",
       "    <tr>\n",
       "      <th>...<\/th>\n",
       "      <td>...<\/td>\n",
       "      <td>...<\/td>\n",
       "      <td>...<\/td>\n",
       "      <td>...<\/td>\n",
       "      <td>...<\/td>\n",
       "      <td>...<\/td>\n",
       "    <\/tr>\n",
       "    <tr>\n",
       "      <th>95<\/th>\n",
       "      <td>96.0<\/td>\n",
       "      <td>\"I Will Remember You\"<\/td>\n",
       "      <td>Amy Grant<\/td>\n",
       "      <td>1992<\/td>\n",
       "      <td>Amy Grant<\/td>\n",
       "      <td>None<\/td>\n",
       "    <\/tr>\n",
       "    <tr>\n",
       "      <th>96<\/th>\n",
       "      <td>97.0<\/td>\n",
       "      <td>\"We Got a Love Thang\"<\/td>\n",
       "      <td>CeCe Peniston<\/td>\n",
       "      <td>1992<\/td>\n",
       "      <td>CeCe Peniston<\/td>\n",
       "      <td>None<\/td>\n",
       "    <\/tr>\n",
       "    <tr>\n",
       "      <th>97<\/th>\n",
       "      <td>98.0<\/td>\n",
       "      <td>\"Let's Get Rocked\"<\/td>\n",
       "      <td>Def Leppard<\/td>\n",
       "      <td>1992<\/td>\n",
       "      <td>Def Leppard<\/td>\n",
       "      <td>None<\/td>\n",
       "    <\/tr>\n",
       "    <tr>\n",
       "      <th>98<\/th>\n",
       "      <td>99.0<\/td>\n",
       "      <td>\"They Want EFX\"<\/td>\n",
       "      <td>Das EFX<\/td>\n",
       "      <td>1992<\/td>\n",
       "      <td>Das EFX<\/td>\n",
       "      <td>None<\/td>\n",
       "    <\/tr>\n",
       "    <tr>\n",
       "      <th>99<\/th>\n",
       "      <td>100.0<\/td>\n",
       "      <td>\"I Can't Make You Love Me\"<\/td>\n",
       "      <td>Bonnie Raitt<\/td>\n",
       "      <td>1992<\/td>\n",
       "      <td>Bonnie Raitt<\/td>\n",
       "      <td>None<\/td>\n",
       "    <\/tr>\n",
       "  <\/tbody>\n",
       "<\/table>\n",
       "<p>3100 rows × 6 columns<\/p>\n",
       "<\/div>"
      ]
     },
     "metadata":{
      
     },
     "output_type":"display_data"
    }
   ],
   "metadata":{
    "datalore":{
     "node_id":"O3BbAGjo5huv0WromYi14H",
     "type":"CODE",
     "hide_input_from_viewers":false,
     "hide_output_from_viewers":false,
     "report_properties":{
      "x":0,
      "y":70
     }
    }
   }
  },
  {
   "cell_type":"code",
   "source":[
    "#convert to csv to combine with mood info and retain year\n",
    "billboard_df.to_csv(\"\/data\/workspace_files\/billboard_songs.csv\", index=False)"
   ],
   "execution_count":null,
   "outputs":[
    
   ],
   "metadata":{
    "datalore":{
     "node_id":"aeoattA7pX50B4AjuyBmxW",
     "type":"CODE",
     "hide_input_from_viewers":false,
     "hide_output_from_viewers":false,
     "report_properties":{
      "x":0,
      "y":81
     }
    }
   }
  },
  {
   "cell_type":"markdown",
   "source":[
    "### **Spotify Data Collection - Track Attributes and Mood Data**<a class=\"anchor\" id=\"third-bullet\"><\/a>\n",
    "*Accessing Spotify API*\n",
    "\n",
    "Spotipy is a python client we used for accessing the Spotify API. Below we have setup the required authentication and stored credentials are separately for security. We've also defined our target market for the Spotify data. "
   ],
   "attachments":{
    
   },
   "metadata":{
    "datalore":{
     "node_id":"dclquVaBFLv0sJhbPGVm4V",
     "type":"MD",
     "hide_input_from_viewers":false,
     "hide_output_from_viewers":false,
     "report_properties":{
      "x":0,
      "y":84
     }
    }
   }
  },
  {
   "cell_type":"code",
   "source":[
    "### Accessing Spotify API\n",
    "market = [ \"AD\", \"AR\", \"AT\", \"AU\", \"BE\", \"BG\", \"BO\", \"BR\", \"CA\", \"CH\", \"CL\", \"CO\", \"CR\", \"CY\", \n",
    "      \"CZ\", \"DE\", \"DK\", \"DO\", \"EC\", \"EE\", \"ES\", \"FI\", \"FR\", \"GB\", \"GR\", \"GT\", \"HK\", \"HN\", \"HU\", \n",
    "      \"ID\", \"IE\", \"IS\", \"IT\", \"JP\", \"LI\", \"LT\", \"LU\", \"LV\", \"MC\", \"MT\", \"MX\", \"MY\", \"NI\", \"NL\", \n",
    "      \"NO\", \"NZ\", \"PA\", \"PE\", \"PH\", \"PL\", \"PT\", \"PY\", \"SE\", \"SG\", \"SK\", \"SV\", \"TH\", \"TR\", \"TW\", \n",
    "      \"US\", \"UY\", \"VN\" ]\n",
    "\n",
    "credentials = oauth2.SpotifyClientCredentials(\n",
    "        client_id=os.environ[\"CLIENT_ID\"],\n",
    "        client_secret=os.environ[\"CLIENT_SECRET\"])\n",
    "\n",
    "token = credentials.get_access_token()['access_token']\n",
    "spotify = spotipy.Spotify(auth=token)"
   ],
   "execution_count":null,
   "outputs":[
    
   ],
   "metadata":{
    "datalore":{
     "node_id":"jinh5llCaFVerzxB4XHzI8",
     "type":"CODE",
     "hide_input_from_viewers":false,
     "hide_output_from_viewers":false,
     "report_properties":{
      "x":0,
      "y":90
     }
    }
   }
  },
  {
   "cell_type":"code",
   "source":[
    "#define a function to query spotify api for song ids given a list of songs\n",
    "#returns a list of dicts\n",
    "\n",
    "song_ids = []\n",
    "def get_song_id(df):\n",
    "    df[\"titleArtist\"]=df[\"Title\"]+\" \"+df[\"Artist_1\"]\n",
    "    songs = df[\"titleArtist\"].tolist()\n",
    "    for song in songs:\n",
    "        track_search = spotify.search(song, type=\"track\", market=market, limit=1)\n",
    "        track_id = track_search[\"tracks\"][\"items\"][0][\"id\"]\n",
    "        artist=track_search[\"tracks\"][\"items\"][0][\"artists\"][0]['name']\n",
    "        title=track_search[\"tracks\"][\"items\"][0][\"name\"]\n",
    "        song_ids.append({\"Title\": title, 'Main Artist': artist, \"ID\": track_id})\n",
    "\n",
    "    return song_ids\n",
    "\n",
    "song_id_dict = get_song_id(billboard_df)"
   ],
   "execution_count":null,
   "outputs":[
    
   ],
   "metadata":{
    "datalore":{
     "node_id":"eDPpURpNltmebFKdDcPl5I",
     "type":"CODE",
     "hide_input_from_viewers":false,
     "hide_output_from_viewers":false,
     "report_properties":{
      "x":0,
      "y":98
     }
    }
   }
  },
  {
   "cell_type":"code",
   "source":[
    "#define a function that returns mood data for a given list of song dicts\n",
    "#returns a list of dicts\n",
    "\n",
    "song_mood_list = []\n",
    "song_segments = []\n",
    "\n",
    "def get_mood_detail(song_id_dicts):\n",
    "    for s in song_id_dicts:\n",
    "        audio_features = spotify.audio_features(s[\"ID\"])\n",
    "\n",
    "       \n",
    "        if audio_features[0] is not None:\n",
    "            energy = audio_features[0][\"energy\"]\n",
    "            loudness = audio_features[0][\"loudness\"]\n",
    "            valence = audio_features[0][\"valence\"]\n",
    "            tempo = audio_features[0][\"tempo\"]\n",
    "            danceability = audio_features[0][\"danceability\"]\n",
    "            key = audio_features[0][\"key\"]\n",
    "        \n",
    "            song_mood_list.append({\"Title\": s[\"Title\"],\n",
    "                                   \"Main Artist\":s[\"Main Artist\"],\n",
    "                                   \"Energy\": energy,\n",
    "                                   \"Loudness\": loudness,\n",
    "                                   \"Valence\": valence,\n",
    "                                   \"Tempo\": tempo,\n",
    "                                   \"Danceability\": danceability,\n",
    "                                   \"Pitch\/Key\": key\n",
    "                                   }\n",
    "                                  )\n",
    "        else:\n",
    "            song_mood_list.append({\"Title\": s[\"Title\"],\n",
    "                                   \"Main Artist\":s[\"Main Artist\"],\n",
    "                                   \"Energy\": None,\n",
    "                                   \"Loudness\": None,\n",
    "                                   \"Valence\": None,\n",
    "                                   \"Tempo\": None,\n",
    "                                   \"Danceability\": None,\n",
    "                                   \"Pitch\/Key\": None\n",
    "                                   }\n",
    "                                  )\n",
    "\n",
    "    \n",
    "    moods_df = pd.DataFrame.from_records(song_mood_list)\n",
    "    \n",
    "    return moods_df\n",
    "\n",
    "mood_df = get_mood_detail(song_id_dict)\n",
    "mood_df.head()"
   ],
   "execution_count":null,
   "outputs":[
    {
     "data":{
      "text\/html":[
       "<div>\n",
       "<style scoped>\n",
       "    .dataframe tbody tr th:only-of-type {\n",
       "        vertical-align: middle;\n",
       "    }\n",
       "\n",
       "    .dataframe tbody tr th {\n",
       "        vertical-align: top;\n",
       "    }\n",
       "\n",
       "    .dataframe thead th {\n",
       "        text-align: right;\n",
       "    }\n",
       "<\/style>\n",
       "<table border=\"1\" class=\"dataframe\">\n",
       "  <thead>\n",
       "    <tr style=\"text-align: right;\">\n",
       "      <th><\/th>\n",
       "      <th>Title<\/th>\n",
       "      <th>Main Artist<\/th>\n",
       "      <th>Energy<\/th>\n",
       "      <th>Loudness<\/th>\n",
       "      <th>Valence<\/th>\n",
       "      <th>Tempo<\/th>\n",
       "      <th>Danceability<\/th>\n",
       "      <th>Pitch\/Key<\/th>\n",
       "    <\/tr>\n",
       "  <\/thead>\n",
       "  <tbody>\n",
       "    <tr>\n",
       "      <th>0<\/th>\n",
       "      <td>Heat Waves<\/td>\n",
       "      <td>Glass Animals<\/td>\n",
       "      <td>0.525<\/td>\n",
       "      <td>-6.900<\/td>\n",
       "      <td>0.531<\/td>\n",
       "      <td>80.870<\/td>\n",
       "      <td>0.761<\/td>\n",
       "      <td>11.0<\/td>\n",
       "    <\/tr>\n",
       "    <tr>\n",
       "      <th>1<\/th>\n",
       "      <td>As It Was<\/td>\n",
       "      <td>Harry Styles<\/td>\n",
       "      <td>0.731<\/td>\n",
       "      <td>-5.338<\/td>\n",
       "      <td>0.662<\/td>\n",
       "      <td>173.930<\/td>\n",
       "      <td>0.520<\/td>\n",
       "      <td>6.0<\/td>\n",
       "    <\/tr>\n",
       "    <tr>\n",
       "      <th>2<\/th>\n",
       "      <td>STAY (with Justin Bieber)<\/td>\n",
       "      <td>The Kid LAROI<\/td>\n",
       "      <td>0.764<\/td>\n",
       "      <td>-5.484<\/td>\n",
       "      <td>0.478<\/td>\n",
       "      <td>169.928<\/td>\n",
       "      <td>0.591<\/td>\n",
       "      <td>1.0<\/td>\n",
       "    <\/tr>\n",
       "    <tr>\n",
       "      <th>3<\/th>\n",
       "      <td>Easy On Me<\/td>\n",
       "      <td>Adele<\/td>\n",
       "      <td>0.366<\/td>\n",
       "      <td>-7.519<\/td>\n",
       "      <td>0.130<\/td>\n",
       "      <td>141.981<\/td>\n",
       "      <td>0.604<\/td>\n",
       "      <td>5.0<\/td>\n",
       "    <\/tr>\n",
       "    <tr>\n",
       "      <th>4<\/th>\n",
       "      <td>Shivers<\/td>\n",
       "      <td>Ed Sheeran<\/td>\n",
       "      <td>0.859<\/td>\n",
       "      <td>-2.724<\/td>\n",
       "      <td>0.822<\/td>\n",
       "      <td>141.020<\/td>\n",
       "      <td>0.788<\/td>\n",
       "      <td>2.0<\/td>\n",
       "    <\/tr>\n",
       "  <\/tbody>\n",
       "<\/table>\n",
       "<\/div>"
      ]
     },
     "metadata":{
      
     },
     "output_type":"display_data"
    }
   ],
   "metadata":{
    "datalore":{
     "node_id":"lBTmEMXvu5KwlHf2ZLLbfs",
     "type":"CODE",
     "hide_input_from_viewers":false,
     "hide_output_from_viewers":false,
     "report_properties":{
      "x":0,
      "y":108
     }
    }
   }
  },
  {
   "cell_type":"markdown",
   "source":[
    "### **Evaluating Mood Metrics to Determine Overall Music Mood**\n",
    "\n",
    "Metric definitions and values returned as defined by Spotify:\n",
    "- Valence is a measure of musical positiveness. This returns a value from 0.0 to 1.0\n",
    "- Energy measures the intensity and activity of a song, and evaluates the dynamic range of loudness, timbre,  onset rate, and entropy. This returns a value from 0.0 to 1.0.\n",
    "- Pitch \/ Key is the key the track is in. The key is returned as a value from -1 (unknown) to 11 that maps to standard Pitch Class notation.\n",
    "- Loudness measures the intensity of a song. It's the physical strength and amplitude averaged over the song, and returned as a value from -60 to 0 DB.\n",
    "- Tempo is the speed of the song and is typically compared to human heartbeat in BPM. Frantic, excited, or energetic songs have high tempo. Calm, depressing, or sad songs have low tempo.\n",
    "- Danceability is how suitable a song is for dancing. It considers tempo, rhythm, beat, and regularity and is returned as a value from 0.0 to 1.0.\n",
    "\n",
    "<br>\n",
    "In our evaluation we considered multiple models of mood classification based on these metrics.\n",
    "<br>\n",
    "<br>\n",
    "**For Hindi Music - Referenced Bhar(2014)**\n",
    "\n",
    "| Mood of Hindi Music        | Valence | Pitch\/Key | Energy | Loudness | Danceability |\n",
    "|-------------|---------|-------|--------|-----------|-------|\n",
    "| Happy       | VHigh   | High | High   | Med       |  Med |\n",
    "| Exuberant   | VHigh   | High  | VHigh   | High      |  High |\n",
    "| Energetic   | High    |  Med  | VHigh   | VHigh     | VHigh |\n",
    "| Frantic     | Low     |  Low  | High    | High      | High |\n",
    "| Anxious\/Sad | VLow    |  Low | Med    | Med       | Med  |\n",
    "| Depression  | VLow    |  Low  | VLow    | Low       |  Low  |\n",
    "| Calm        | Med     |  Med  | VLow    | VLow      |  VLow |\n",
    "| Contentment | Med     | High | Low    | Low       |  Low |\n",
    "\n",
    "<br>\n",
    "<br>\n",
    "**For Western Music - Derived from Bhar(2014)**\n",
    "\n",
    "|Mood |Mean Intensity|Mean Timbre|Mean Pitch|Mean Rhythm|\n",
    "|---------------------|--------------|-----------|----------|-----------|\n",
    "| Happy |\t0.2055 |\t0.4418 |\t967.47 |\t209.01 |\n",
    "|Exuberent |\t0.317|\t0.4265|\t611.94|\t177.7|\n",
    "|Energetic |\t0.4564|\t0.319|\t381.65|\t163.14|\n",
    "|Frantic |\t0.2827|\t0.6376|\t239.78|\t189.03|\n",
    "|Sad\t|0.2245|\t0.1572|\t95.654|\t137.23|\n",
    "|Depression|\t0.1177|\t0.228|\t212.65|\t122.65|\n",
    "|Calm\t|0.0658\t|0.1049\t|383.49\t|72.23|\n",
    "|Contentment\t|0.1482\t|0.2114\t|756.65|\t101.73|\n",
    "\n",
    "\n",
    "<br>\n",
    "<br>\n",
    "Intensity and timbre within Table 2 are given as normalized values – they should simply be viewed relative to one another.\n",
    "\n",
    "Pitch is given as a frequency in Hz, number of cycles per second, and rhythm is given as a number of beats per minute.\n",
    "\n",
    "The models above were difficult to translate using spotify metrics. Too many emotional tags will make the mood classification complex. Thus, in most existing researches of music mood classification, the music moods are normally divided according to the two-dimensional emotion model. This model consists of two dimensions: valence (negative\/positive) and arousal (low\/high).\n",
    "\n",
    "The updated model from 2017 proved to be more accurate at classifying music moods. For example, happy is positive valence with medium arousal; calm is low arousal with neutral valence.\n",
    "\n",
    "\n",
    "\n",
    "**The 2-D emotion moods, derived from Munoz-De-Escalona (2017)**\n",
    "\n",
    "| Mood        | Valence | Energy\/Arousal |\n",
    "|-------------|---------|-------|\n",
    "| Alert      | Med   | High | \n",
    "| Excited   | High   | High  |\n",
    "| Happy   | High    |  Med  |\n",
    "| Relaxed    | Med    |  Med | \n",
    "| Calm | Med    |  Low | \n",
    "| Sad  | Low    |  Low  |\n",
    "| Depression | Low    |  Med  |\n",
    "| Afraid | Low     |  High  | \n",
    "\n",
    "\n",
    "<br>\n",
    "This final model is what we used for evaluating our data. Our final step is to add an additional column with this mood calculation for each track."
   ],
   "attachments":{
    
   },
   "metadata":{
    "datalore":{
     "node_id":"iDYnxUv2BhrvfctrIZl1Um",
     "type":"MD",
     "hide_input_from_viewers":false,
     "hide_output_from_viewers":false,
     "report_properties":{
      "x":0,
      "y":133
     }
    }
   }
  },
  {
   "cell_type":"code",
   "source":[
    "#using bounds, determine levels for each metric\n",
    "\n",
    "arousal_bins = [0.0, 1\/3, 2\/3, 1.0]    #Arousal\/Energy\n",
    "valence_bins=[0.0, 1\/3, 2\/3 , 1.0]              #Valence\n",
    "\n",
    "name = [\"Low\", \"Med\", \"High\" ]\n",
    "\n",
    "mood_df[\"EL\"] = pd.cut(mood_df[\"Energy\"], arousal_bins, labels=name)\n",
    "mood_df[\"VL\"] = pd.cut(mood_df[\"Valence\"], valence_bins, labels=name)\n",
    "mood_df"
   ],
   "execution_count":null,
   "outputs":[
    {
     "data":{
      "text\/html":[
       "<div>\n",
       "<style scoped>\n",
       "    .dataframe tbody tr th:only-of-type {\n",
       "        vertical-align: middle;\n",
       "    }\n",
       "\n",
       "    .dataframe tbody tr th {\n",
       "        vertical-align: top;\n",
       "    }\n",
       "\n",
       "    .dataframe thead th {\n",
       "        text-align: right;\n",
       "    }\n",
       "<\/style>\n",
       "<table border=\"1\" class=\"dataframe\">\n",
       "  <thead>\n",
       "    <tr style=\"text-align: right;\">\n",
       "      <th><\/th>\n",
       "      <th>Title<\/th>\n",
       "      <th>Main Artist<\/th>\n",
       "      <th>Energy<\/th>\n",
       "      <th>Loudness<\/th>\n",
       "      <th>Valence<\/th>\n",
       "      <th>Tempo<\/th>\n",
       "      <th>Danceability<\/th>\n",
       "      <th>Pitch\/Key<\/th>\n",
       "      <th>EL<\/th>\n",
       "      <th>VL<\/th>\n",
       "    <\/tr>\n",
       "  <\/thead>\n",
       "  <tbody>\n",
       "    <tr>\n",
       "      <th>0<\/th>\n",
       "      <td>Heat Waves<\/td>\n",
       "      <td>Glass Animals<\/td>\n",
       "      <td>0.525<\/td>\n",
       "      <td>-6.900<\/td>\n",
       "      <td>0.531<\/td>\n",
       "      <td>80.870<\/td>\n",
       "      <td>0.761<\/td>\n",
       "      <td>11.0<\/td>\n",
       "      <td>Med<\/td>\n",
       "      <td>Med<\/td>\n",
       "    <\/tr>\n",
       "    <tr>\n",
       "      <th>1<\/th>\n",
       "      <td>As It Was<\/td>\n",
       "      <td>Harry Styles<\/td>\n",
       "      <td>0.731<\/td>\n",
       "      <td>-5.338<\/td>\n",
       "      <td>0.662<\/td>\n",
       "      <td>173.930<\/td>\n",
       "      <td>0.520<\/td>\n",
       "      <td>6.0<\/td>\n",
       "      <td>High<\/td>\n",
       "      <td>Med<\/td>\n",
       "    <\/tr>\n",
       "    <tr>\n",
       "      <th>2<\/th>\n",
       "      <td>STAY (with Justin Bieber)<\/td>\n",
       "      <td>The Kid LAROI<\/td>\n",
       "      <td>0.764<\/td>\n",
       "      <td>-5.484<\/td>\n",
       "      <td>0.478<\/td>\n",
       "      <td>169.928<\/td>\n",
       "      <td>0.591<\/td>\n",
       "      <td>1.0<\/td>\n",
       "      <td>High<\/td>\n",
       "      <td>Med<\/td>\n",
       "    <\/tr>\n",
       "    <tr>\n",
       "      <th>3<\/th>\n",
       "      <td>Easy On Me<\/td>\n",
       "      <td>Adele<\/td>\n",
       "      <td>0.366<\/td>\n",
       "      <td>-7.519<\/td>\n",
       "      <td>0.130<\/td>\n",
       "      <td>141.981<\/td>\n",
       "      <td>0.604<\/td>\n",
       "      <td>5.0<\/td>\n",
       "      <td>Med<\/td>\n",
       "      <td>Low<\/td>\n",
       "    <\/tr>\n",
       "    <tr>\n",
       "      <th>4<\/th>\n",
       "      <td>Shivers<\/td>\n",
       "      <td>Ed Sheeran<\/td>\n",
       "      <td>0.859<\/td>\n",
       "      <td>-2.724<\/td>\n",
       "      <td>0.822<\/td>\n",
       "      <td>141.020<\/td>\n",
       "      <td>0.788<\/td>\n",
       "      <td>2.0<\/td>\n",
       "      <td>High<\/td>\n",
       "      <td>High<\/td>\n",
       "    <\/tr>\n",
       "    <tr>\n",
       "      <th>...<\/th>\n",
       "      <td>...<\/td>\n",
       "      <td>...<\/td>\n",
       "      <td>...<\/td>\n",
       "      <td>...<\/td>\n",
       "      <td>...<\/td>\n",
       "      <td>...<\/td>\n",
       "      <td>...<\/td>\n",
       "      <td>...<\/td>\n",
       "      <td>...<\/td>\n",
       "      <td>...<\/td>\n",
       "    <\/tr>\n",
       "    <tr>\n",
       "      <th>3095<\/th>\n",
       "      <td>I Will Remember You<\/td>\n",
       "      <td>Amy Grant<\/td>\n",
       "      <td>0.658<\/td>\n",
       "      <td>-6.432<\/td>\n",
       "      <td>0.336<\/td>\n",
       "      <td>177.625<\/td>\n",
       "      <td>0.513<\/td>\n",
       "      <td>0.0<\/td>\n",
       "      <td>Med<\/td>\n",
       "      <td>Med<\/td>\n",
       "    <\/tr>\n",
       "    <tr>\n",
       "      <th>3096<\/th>\n",
       "      <td>We Got A Love Thang<\/td>\n",
       "      <td>CeCe Peniston<\/td>\n",
       "      <td>0.644<\/td>\n",
       "      <td>-10.470<\/td>\n",
       "      <td>0.764<\/td>\n",
       "      <td>120.012<\/td>\n",
       "      <td>0.669<\/td>\n",
       "      <td>0.0<\/td>\n",
       "      <td>Med<\/td>\n",
       "      <td>High<\/td>\n",
       "    <\/tr>\n",
       "    <tr>\n",
       "      <th>3097<\/th>\n",
       "      <td>Let's Get Rocked<\/td>\n",
       "      <td>Def Leppard<\/td>\n",
       "      <td>0.888<\/td>\n",
       "      <td>-6.763<\/td>\n",
       "      <td>0.526<\/td>\n",
       "      <td>91.989<\/td>\n",
       "      <td>0.564<\/td>\n",
       "      <td>5.0<\/td>\n",
       "      <td>High<\/td>\n",
       "      <td>Med<\/td>\n",
       "    <\/tr>\n",
       "    <tr>\n",
       "      <th>3098<\/th>\n",
       "      <td>They Want EFX<\/td>\n",
       "      <td>Das EFX<\/td>\n",
       "      <td>0.459<\/td>\n",
       "      <td>-12.840<\/td>\n",
       "      <td>0.597<\/td>\n",
       "      <td>98.454<\/td>\n",
       "      <td>0.755<\/td>\n",
       "      <td>5.0<\/td>\n",
       "      <td>Med<\/td>\n",
       "      <td>Med<\/td>\n",
       "    <\/tr>\n",
       "    <tr>\n",
       "      <th>3099<\/th>\n",
       "      <td>I Can't Make You Love Me<\/td>\n",
       "      <td>Bonnie Raitt<\/td>\n",
       "      <td>0.149<\/td>\n",
       "      <td>-16.728<\/td>\n",
       "      <td>0.113<\/td>\n",
       "      <td>124.689<\/td>\n",
       "      <td>0.588<\/td>\n",
       "      <td>7.0<\/td>\n",
       "      <td>Low<\/td>\n",
       "      <td>Low<\/td>\n",
       "    <\/tr>\n",
       "  <\/tbody>\n",
       "<\/table>\n",
       "<p>3100 rows × 10 columns<\/p>\n",
       "<\/div>"
      ]
     },
     "metadata":{
      
     },
     "output_type":"display_data"
    }
   ],
   "metadata":{
    "datalore":{
     "node_id":"6sAQpX8LCrdhMeAY1Dr26f",
     "type":"CODE",
     "hide_input_from_viewers":false,
     "hide_output_from_viewers":false,
     "report_properties":{
      "y":176
     }
    }
   }
  },
  {
   "cell_type":"code",
   "source":[
    "#now assign each mood based on mood matrix\n",
    "\n",
    "def mood_category(mood_df):\n",
    "    if (mood_df[\"EL\"] == \"High\") and (mood_df[\"VL\"] == \"Med\") :\n",
    "        return \"alert\"\n",
    "    elif (mood_df[\"EL\"] == \"High\") and (mood_df[\"VL\"] == \"Low\"):\n",
    "        return \"afraid\"\n",
    "    elif (mood_df[\"EL\"] == \"Low\") and (mood_df[\"VL\"] == \"Low\"):\n",
    "        return \"sad\"\n",
    "    elif (mood_df[\"EL\"] == \"Med\") and (mood_df[\"VL\"] == \"Low\"):\n",
    "        return \"depressed\"\n",
    "    elif (mood_df[\"EL\"] == \"Low\") and (mood_df[\"VL\"] == \"Med\"):\n",
    "        return \"calm\"\n",
    "    elif (mood_df[\"EL\"] == \"Med\") and (mood_df[\"VL\"] == \"Med\"):\n",
    "        return \"relaxed\"\n",
    "    elif (mood_df[\"EL\"] == \"Med\") and (mood_df[\"VL\"] == \"High\"):\n",
    "        return \"happy\"\n",
    "    elif (mood_df[\"EL\"] == \"High\") and (mood_df[\"VL\"] == \"High\"):\n",
    "        return \"excited\"\n",
    "    else:\n",
    "        return \"None\"\n",
    "    \n",
    "\n",
    "mood_df[\"Mood\"] = mood_df.apply(mood_category, axis=1)"
   ],
   "execution_count":null,
   "outputs":[
    
   ],
   "metadata":{
    "datalore":{
     "node_id":"x9ohhPxfLsMIbjcfW1FM6z",
     "type":"CODE",
     "hide_input_from_viewers":false,
     "hide_output_from_viewers":false,
     "report_properties":{
      "y":184
     }
    }
   }
  },
  {
   "cell_type":"code",
   "source":[
    "#convert the dataframe to a csv for export and further analysis\n",
    "mood_df.to_csv(\"\/data\/workspace_files\/92_22_data.csv\", index=False)"
   ],
   "execution_count":null,
   "outputs":[
    
   ],
   "metadata":{
    "datalore":{
     "node_id":"YEVAbYEs6wpCMqDgAc4fJQ",
     "type":"CODE",
     "hide_input_from_viewers":false,
     "hide_output_from_viewers":false,
     "report_properties":{
      "y":197
     }
    }
   }
  }
 ],
 "metadata":{
  "kernelspec":{
   "display_name":"Python",
   "language":"python",
   "name":"python"
  },
  "datalore":{
   "computation_mode":"JUPYTER",
   "package_manager":"pip",
   "base_environment":"default",
   "packages":[
    {
     "name":"spotipy",
     "version":"2.22.1",
     "source":"PIP"
    },
    {
     "name":"wikipedia",
     "version":"1.4.0",
     "source":"PIP"
    }
   ],
   "report_row_ids":[
    
   ],
   "version":1
  }
 },
 "nbformat":4,
 "nbformat_minor":4
}